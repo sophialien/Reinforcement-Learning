{
  "nbformat": 4,
  "nbformat_minor": 0,
  "metadata": {
    "colab": {
      "name": "Value Iteration.ipynb",
      "provenance": [],
      "collapsed_sections": [],
      "authorship_tag": "ABX9TyMWCusCGiuTFZBUdfwGroTv",
      "include_colab_link": true
    },
    "kernelspec": {
      "name": "python3",
      "display_name": "Python 3"
    }
  },
  "cells": [
    {
      "cell_type": "markdown",
      "metadata": {
        "id": "view-in-github",
        "colab_type": "text"
      },
      "source": [
        "<a href=\"https://colab.research.google.com/github/sophialien/ReinforcementLearning/blob/master/Value_Iteration.ipynb\" target=\"_parent\"><img src=\"https://colab.research.google.com/assets/colab-badge.svg\" alt=\"Open In Colab\"/></a>"
      ]
    },
    {
      "cell_type": "markdown",
      "metadata": {
        "id": "5q0PBy3bOz2v",
        "colab_type": "text"
      },
      "source": [
        "# Value Iteration\n"
      ]
    },
    {
      "cell_type": "markdown",
      "metadata": {
        "id": "vpXFW1YbPp6_",
        "colab_type": "text"
      },
      "source": [
        "It starts with arbitrary policy values and the iteatively updates the values based on the Bellman optimality equation until they converge."
      ]
    },
    {
      "cell_type": "markdown",
      "metadata": {
        "id": "zS2s5fMRSMTV",
        "colab_type": "text"
      },
      "source": [
        "$ V^*(S) := \\max_a [R(s,a) + \\gamma \\sum_{s'}T(s,a,s')V^*(s')]$"
      ]
    },
    {
      "cell_type": "markdown",
      "metadata": {
        "id": "dw_gX2bkU7io",
        "colab_type": "text"
      },
      "source": [
        "* $V^*(s)$ denotes the optimal \n",
        "value, which is the value of the optimal policy.\n",
        "\n",
        "* $T(s, a, s')$ is the transition probability from state s to state s' by taking action a\n",
        "\n",
        "* $R(s,a)$ is the reward received iin state s by taking action a."
      ]
    },
    {
      "cell_type": "markdown",
      "metadata": {
        "id": "1GWWeAJiVmld",
        "colab_type": "text"
      },
      "source": [
        "Once the optimal values are computed, we can get the optimal policy:"
      ]
    },
    {
      "cell_type": "markdown",
      "metadata": {
        "id": "5-ZR3aVIVwmc",
        "colab_type": "text"
      },
      "source": [
        "$ \\pi^*(s) := \\text{argmax}_a \\sum_{s'} T(s,a,s') [R(s,a,s'] + \\gamma V^*(s')] $"
      ]
    },
    {
      "cell_type": "markdown",
      "metadata": {
        "id": "KtHtDU5dW5AG",
        "colab_type": "text"
      },
      "source": [
        "# 1. Create an environment"
      ]
    },
    {
      "cell_type": "code",
      "metadata": {
        "id": "6vNE6APuW-1n",
        "colab_type": "code",
        "colab": {}
      },
      "source": [
        "import torch\n",
        "import gym\n",
        "import numpy as np\n",
        "import matplotlib.pyplot as plt\n",
        "\n",
        "env_name = 'Taxi-v3'\n",
        "env = gym.make(env_name)"
      ],
      "execution_count": 0,
      "outputs": []
    },
    {
      "cell_type": "markdown",
      "metadata": {
        "id": "ukgry8cgW-Fz",
        "colab_type": "text"
      },
      "source": [
        "## 2. Set discount factor $\\gamma $ and converge threshold"
      ]
    },
    {
      "cell_type": "code",
      "metadata": {
        "id": "TOHS6gdtW4Rm",
        "colab_type": "code",
        "colab": {}
      },
      "source": [
        "gamma = 0.9\n",
        "\n",
        "max_iterations = 10**6\n",
        "eps = 10**-3"
      ],
      "execution_count": 0,
      "outputs": []
    },
    {
      "cell_type": "markdown",
      "metadata": {
        "id": "TFlBpjhTYbpN",
        "colab_type": "text"
      },
      "source": [
        "# 3. Define the function for optimal policy based on the value iteration algorithm"
      ]
    },
    {
      "cell_type": "code",
      "metadata": {
        "id": "7JydTuETU63O",
        "colab_type": "code",
        "colab": {}
      },
      "source": [
        "def value_iteration(env, gamma=0.9, max_iterations=10**6, eps=10**-3):\n",
        "    \"\"\"        \n",
        "    Run value iteration\n",
        "    \n",
        "    Input Arguments\n",
        "    ----------\n",
        "        env: \n",
        "            the target environment\n",
        "        gamma: float\n",
        "            the discount factor for rewards\n",
        "        max_iterations: int\n",
        "            maximum number of iterations for value iteration\n",
        "        eps: float\n",
        "            for the termination criterion of value iteration (converge threshod)\n",
        "    ----------\n",
        "    \n",
        "    Output\n",
        "    ----------\n",
        "        policy: torch.tensor of size (500,)\n",
        "    ----------\n",
        "    \"\"\"        \n",
        "    \n",
        "    num_spaces = env.observation_space.n\n",
        "    num_actions = env.action_space.n\n",
        "    k = 0\n",
        "\n",
        "    #        1. Initialize the value function V(s), Policy(s)\n",
        "    V = torch.zeros(num_spaces)\n",
        "    policy = torch.zeros(num_spaces)\n",
        "\n",
        "    #        2. Iterate and improve V(s) using the Bellman optimality operator\n",
        "    #           Derive the optimal policy using V(s)\n",
        "    \n",
        "    while True:\n",
        "        k += 1\n",
        "        V_temp = torch.empty(num_spaces)\n",
        "        for state in range(num_spaces):\n",
        "            v_actions = torch.zeros(num_actions)\n",
        "            for action in range(num_actions):\n",
        "                for trans_prob, new_state, reward, _ in env.P[state][action]:\n",
        "                    v_actions[action] += trans_prob * (reward + gamma * V[new_state])\n",
        "            \n",
        "            policy[state] = torch.argmax(v_actions)\n",
        "            V_temp[state] = torch.max(v_actions)\n",
        "        \n",
        "        max_delta = torch.max(torch.abs(V - V_temp))\n",
        "        V = V_temp.clone()\n",
        "        \n",
        "        if (max_delta <= eps) or (k >= max_iterations):\n",
        "            break\n",
        "    \n",
        "    return policy"
      ],
      "execution_count": 0,
      "outputs": []
    },
    {
      "cell_type": "markdown",
      "metadata": {
        "id": "93Lg3zt2dGbD",
        "colab_type": "text"
      },
      "source": [
        "# 4. Print the optimal policy"
      ]
    },
    {
      "cell_type": "code",
      "metadata": {
        "id": "KfBIHc1hd4TO",
        "colab_type": "code",
        "outputId": "d37a8fa3-b3d7-4067-9440-9ea753415d0b",
        "colab": {
          "base_uri": "https://localhost:8080/",
          "height": 187
        }
      },
      "source": [
        "print('== {} =='.format(env_name))\n",
        "print('# of actions:', env.action_space.n)\n",
        "print('# of states:', env.observation_space.n)\n",
        "print(env.desc)"
      ],
      "execution_count": 8,
      "outputs": [
        {
          "output_type": "stream",
          "text": [
            "== Taxi-v3 ==\n",
            "# of actions: 6\n",
            "# of states: 500\n",
            "[[b'+' b'-' b'-' b'-' b'-' b'-' b'-' b'-' b'-' b'-' b'+']\n",
            " [b'|' b'R' b':' b' ' b'|' b' ' b':' b' ' b':' b'G' b'|']\n",
            " [b'|' b' ' b':' b' ' b'|' b' ' b':' b' ' b':' b' ' b'|']\n",
            " [b'|' b' ' b':' b' ' b':' b' ' b':' b' ' b':' b' ' b'|']\n",
            " [b'|' b' ' b'|' b' ' b':' b' ' b'|' b' ' b':' b' ' b'|']\n",
            " [b'|' b'Y' b'|' b' ' b':' b' ' b'|' b'B' b':' b' ' b'|']\n",
            " [b'+' b'-' b'-' b'-' b'-' b'-' b'-' b'-' b'-' b'-' b'+']]\n"
          ],
          "name": "stdout"
        }
      ]
    },
    {
      "cell_type": "code",
      "metadata": {
        "id": "STgtHjCEeEz8",
        "colab_type": "code",
        "colab": {}
      },
      "source": [
        "def print_policy(policy, mapping=None, shape=(0,)):\n",
        "    print(np.array([mapping[action.item()] for action in policy]).reshape(shape))"
      ],
      "execution_count": 0,
      "outputs": []
    },
    {
      "cell_type": "code",
      "metadata": {
        "id": "WxgFkNs5Yt0e",
        "colab_type": "code",
        "colab": {
          "base_uri": "https://localhost:8080/",
          "height": 493
        },
        "outputId": "27da3104-3c00-4ddf-da73-38222ca57a94"
      },
      "source": [
        "vi_policy = value_iteration(env)\n",
        "action_map = {0: \"S\", 1: \"N\", 2: \"E\", 3: \"W\", 4: \"P\", 5: \"D\"}\n",
        "\n",
        "print_policy(vi_policy, action_map, shape=None)"
      ],
      "execution_count": 14,
      "outputs": [
        {
          "output_type": "stream",
          "text": [
            "['P' 'P' 'P' 'P' 'E' 'E' 'E' 'E' 'S' 'S' 'S' 'S' 'E' 'E' 'E' 'E' 'D' 'E'\n",
            " 'S' 'E' 'W' 'W' 'W' 'W' 'S' 'S' 'S' 'S' 'W' 'W' 'W' 'W' 'S' 'S' 'S' 'S'\n",
            " 'W' 'S' 'W' 'S' 'S' 'S' 'S' 'S' 'E' 'E' 'E' 'E' 'S' 'S' 'S' 'S' 'E' 'E'\n",
            " 'E' 'E' 'S' 'E' 'S' 'E' 'W' 'W' 'W' 'W' 'E' 'E' 'E' 'E' 'W' 'W' 'W' 'W'\n",
            " 'S' 'S' 'S' 'S' 'W' 'E' 'W' 'S' 'W' 'W' 'W' 'W' 'P' 'P' 'P' 'P' 'W' 'W'\n",
            " 'W' 'W' 'W' 'W' 'W' 'W' 'W' 'D' 'W' 'W' 'N' 'N' 'N' 'N' 'E' 'E' 'E' 'E'\n",
            " 'S' 'S' 'S' 'S' 'E' 'E' 'E' 'E' 'N' 'E' 'S' 'E' 'W' 'W' 'W' 'W' 'S' 'S'\n",
            " 'S' 'S' 'W' 'W' 'W' 'W' 'S' 'S' 'S' 'S' 'W' 'S' 'W' 'S' 'S' 'S' 'S' 'S'\n",
            " 'E' 'E' 'E' 'E' 'S' 'S' 'S' 'S' 'E' 'E' 'E' 'E' 'S' 'E' 'S' 'E' 'W' 'W'\n",
            " 'W' 'W' 'E' 'E' 'E' 'E' 'W' 'W' 'W' 'W' 'S' 'S' 'S' 'S' 'W' 'E' 'W' 'S'\n",
            " 'W' 'W' 'W' 'W' 'N' 'N' 'N' 'N' 'W' 'W' 'W' 'W' 'W' 'W' 'W' 'W' 'W' 'N'\n",
            " 'W' 'W' 'N' 'N' 'N' 'N' 'E' 'E' 'E' 'E' 'S' 'S' 'S' 'S' 'E' 'E' 'E' 'E'\n",
            " 'N' 'E' 'S' 'E' 'W' 'W' 'W' 'W' 'E' 'E' 'E' 'E' 'W' 'W' 'W' 'W' 'E' 'E'\n",
            " 'E' 'E' 'W' 'E' 'W' 'E' 'W' 'W' 'W' 'W' 'E' 'E' 'E' 'E' 'W' 'W' 'W' 'W'\n",
            " 'E' 'E' 'E' 'E' 'W' 'E' 'W' 'E' 'W' 'W' 'W' 'W' 'E' 'E' 'E' 'E' 'W' 'W'\n",
            " 'W' 'W' 'S' 'S' 'S' 'S' 'W' 'E' 'W' 'S' 'W' 'W' 'W' 'W' 'N' 'N' 'N' 'N'\n",
            " 'W' 'W' 'W' 'W' 'W' 'W' 'W' 'W' 'W' 'N' 'W' 'W' 'N' 'N' 'N' 'N' 'N' 'N'\n",
            " 'N' 'N' 'S' 'S' 'S' 'S' 'N' 'N' 'N' 'N' 'N' 'N' 'S' 'N' 'N' 'N' 'N' 'N'\n",
            " 'E' 'E' 'E' 'E' 'N' 'N' 'N' 'N' 'E' 'E' 'E' 'E' 'N' 'E' 'N' 'E' 'W' 'W'\n",
            " 'W' 'W' 'N' 'N' 'N' 'N' 'W' 'W' 'W' 'W' 'N' 'N' 'N' 'N' 'W' 'N' 'W' 'N'\n",
            " 'N' 'N' 'N' 'N' 'E' 'E' 'E' 'E' 'N' 'N' 'N' 'N' 'S' 'S' 'S' 'S' 'N' 'E'\n",
            " 'N' 'S' 'W' 'W' 'W' 'W' 'N' 'N' 'N' 'N' 'W' 'W' 'W' 'W' 'W' 'W' 'W' 'W'\n",
            " 'W' 'N' 'W' 'W' 'N' 'N' 'N' 'N' 'N' 'N' 'N' 'N' 'P' 'P' 'P' 'P' 'N' 'N'\n",
            " 'N' 'N' 'N' 'N' 'D' 'N' 'N' 'N' 'N' 'N' 'E' 'E' 'E' 'E' 'N' 'N' 'N' 'N'\n",
            " 'E' 'E' 'E' 'E' 'N' 'E' 'N' 'E' 'W' 'W' 'W' 'W' 'N' 'N' 'N' 'N' 'W' 'W'\n",
            " 'W' 'W' 'N' 'N' 'N' 'N' 'W' 'N' 'W' 'N' 'N' 'N' 'N' 'N' 'E' 'E' 'E' 'E'\n",
            " 'N' 'N' 'N' 'N' 'P' 'P' 'P' 'P' 'N' 'E' 'N' 'D' 'W' 'W' 'W' 'W' 'N' 'N'\n",
            " 'N' 'N' 'W' 'W' 'W' 'W' 'W' 'W' 'W' 'W' 'W' 'N' 'W' 'W']\n"
          ],
          "name": "stdout"
        }
      ]
    },
    {
      "cell_type": "markdown",
      "metadata": {
        "id": "JC9_8S1xlOfF",
        "colab_type": "text"
      },
      "source": [
        "# 5. Run 1000 episodes and gauge the optimal policy "
      ]
    },
    {
      "cell_type": "code",
      "metadata": {
        "id": "7LAURT7clNxV",
        "colab_type": "code",
        "colab": {}
      },
      "source": [
        "def run_episode(env, policy):\n",
        "  \"\"\"\n",
        "  Run episode under given policy\n",
        "\n",
        "  Input Arguments\n",
        "  ------\n",
        "  env:\n",
        "      the target environment\n",
        "  policy: torch.tensor of size (500,)\n",
        "      current policy\n",
        "  ------\n",
        "\n",
        "  Output\n",
        "  ------\n",
        "  total_reward : scaler\n",
        "      total reward for one episode\n",
        "  ------\n",
        "\n",
        "  \"\"\"\n",
        "  state = env.reset()\n",
        "  total_reward = 0\n",
        "  is_done = False\n",
        "  while not is_done:\n",
        "    action = policy[state].item()\n",
        "    state, reward, is_done, info = env.step(action)\n",
        "    total_reward += reward\n",
        "    if is_done:\n",
        "      break\n",
        "  return total_reward"
      ],
      "execution_count": 0,
      "outputs": []
    },
    {
      "cell_type": "code",
      "metadata": {
        "id": "Mq4-i7RRK7GV",
        "colab_type": "code",
        "colab": {}
      },
      "source": [
        "n_episode = 1000\n",
        "total_rewards = []\n",
        "for episode in range(n_episode):\n",
        "  total_reward = run_episode(env, vi_policy)\n",
        "  total_rewards.append(total_reward)"
      ],
      "execution_count": 0,
      "outputs": []
    },
    {
      "cell_type": "code",
      "metadata": {
        "id": "9HO2uox7gaWk",
        "colab_type": "code",
        "colab": {
          "base_uri": "https://localhost:8080/",
          "height": 299
        },
        "outputId": "ea90c902-6530-49db-d359-059ce94f3110"
      },
      "source": [
        "print('Average toatl reward:', sum(total_rewards)/n_episode)\n",
        "plt.plot(total_rewards)"
      ],
      "execution_count": 16,
      "outputs": [
        {
          "output_type": "stream",
          "text": [
            "Average toatl reward: 7.985\n"
          ],
          "name": "stdout"
        },
        {
          "output_type": "execute_result",
          "data": {
            "text/plain": [
              "[<matplotlib.lines.Line2D at 0x7fbb9e805f98>]"
            ]
          },
          "metadata": {
            "tags": []
          },
          "execution_count": 16
        },
        {
          "output_type": "display_data",
          "data": {
            "image/png": "[encoded data removed]",
            "text/plain": [
              "<Figure size 432x288 with 1 Axes>"
            ]
          },
          "metadata": {
            "tags": [],
            "needs_background": "light"
          }
        }
      ]
    },
    {
      "cell_type": "code",
      "metadata": {
        "id": "Vjej7zDttnB0",
        "colab_type": "code",
        "colab": {}
      },
      "source": [
        ""
      ],
      "execution_count": 0,
      "outputs": []
    }
  ]
}